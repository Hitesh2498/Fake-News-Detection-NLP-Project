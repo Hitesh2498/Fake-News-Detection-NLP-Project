{
 "cells": [
  {
   "cell_type": "markdown",
   "metadata": {},
   "source": [
    "### Import Gensim Word2Vec Model"
   ]
  },
  {
   "cell_type": "code",
   "execution_count": null,
   "metadata": {},
   "outputs": [],
   "source": [
    "import gensim.downloader as api\n",
    "\n",
    "wv = api.load(\"word2vec-google-news-300\")"
   ]
  },
  {
   "cell_type": "code",
   "execution_count": 2,
   "metadata": {},
   "outputs": [
    {
     "data": {
      "text/plain": [
       "0.729151"
      ]
     },
     "execution_count": 2,
     "metadata": {},
     "output_type": "execute_result"
    }
   ],
   "source": [
    "wv.similarity(w1 = \"great\", w2 = \"good\")"
   ]
  },
  {
   "cell_type": "code",
   "execution_count": 3,
   "metadata": {},
   "outputs": [],
   "source": [
    "wv_great=wv[\"great\"]\n",
    "wv_good=wv[\"good\"]"
   ]
  },
  {
   "cell_type": "markdown",
   "metadata": {},
   "source": [
    "### Load dataset"
   ]
  },
  {
   "cell_type": "code",
   "execution_count": 3,
   "metadata": {},
   "outputs": [],
   "source": [
    "import pandas as pd\n",
    "import numpy as np"
   ]
  },
  {
   "cell_type": "code",
   "execution_count": 4,
   "metadata": {},
   "outputs": [
    {
     "data": {
      "text/plain": [
       "(72134, 4)"
      ]
     },
     "execution_count": 4,
     "metadata": {},
     "output_type": "execute_result"
    }
   ],
   "source": [
    "# 0 :- Fake, 1 :- Real\n",
    "df = pd.read_csv(\"./Data/news_Fake_Dataset.csv\")\n",
    "df.shape"
   ]
  },
  {
   "cell_type": "code",
   "execution_count": 5,
   "metadata": {},
   "outputs": [
    {
     "data": {
      "text/html": [
       "<div>\n",
       "<style scoped>\n",
       "    .dataframe tbody tr th:only-of-type {\n",
       "        vertical-align: middle;\n",
       "    }\n",
       "\n",
       "    .dataframe tbody tr th {\n",
       "        vertical-align: top;\n",
       "    }\n",
       "\n",
       "    .dataframe thead th {\n",
       "        text-align: right;\n",
       "    }\n",
       "</style>\n",
       "<table border=\"1\" class=\"dataframe\">\n",
       "  <thead>\n",
       "    <tr style=\"text-align: right;\">\n",
       "      <th></th>\n",
       "      <th>Unnamed: 0</th>\n",
       "      <th>title</th>\n",
       "      <th>text</th>\n",
       "      <th>label</th>\n",
       "    </tr>\n",
       "  </thead>\n",
       "  <tbody>\n",
       "    <tr>\n",
       "      <th>0</th>\n",
       "      <td>0</td>\n",
       "      <td>LAW ENFORCEMENT ON HIGH ALERT Following Threat...</td>\n",
       "      <td>No comment is expected from Barack Obama Membe...</td>\n",
       "      <td>1</td>\n",
       "    </tr>\n",
       "    <tr>\n",
       "      <th>1</th>\n",
       "      <td>1</td>\n",
       "      <td>NaN</td>\n",
       "      <td>Did they post their votes for Hillary already?</td>\n",
       "      <td>1</td>\n",
       "    </tr>\n",
       "    <tr>\n",
       "      <th>2</th>\n",
       "      <td>2</td>\n",
       "      <td>UNBELIEVABLE! OBAMA’S ATTORNEY GENERAL SAYS MO...</td>\n",
       "      <td>Now, most of the demonstrators gathered last ...</td>\n",
       "      <td>1</td>\n",
       "    </tr>\n",
       "    <tr>\n",
       "      <th>3</th>\n",
       "      <td>3</td>\n",
       "      <td>Bobby Jindal, raised Hindu, uses story of Chri...</td>\n",
       "      <td>A dozen politically active pastors came here f...</td>\n",
       "      <td>0</td>\n",
       "    </tr>\n",
       "    <tr>\n",
       "      <th>4</th>\n",
       "      <td>4</td>\n",
       "      <td>SATAN 2: Russia unvelis an image of its terrif...</td>\n",
       "      <td>The RS-28 Sarmat missile, dubbed Satan 2, will...</td>\n",
       "      <td>1</td>\n",
       "    </tr>\n",
       "  </tbody>\n",
       "</table>\n",
       "</div>"
      ],
      "text/plain": [
       "   Unnamed: 0                                              title  \\\n",
       "0           0  LAW ENFORCEMENT ON HIGH ALERT Following Threat...   \n",
       "1           1                                                NaN   \n",
       "2           2  UNBELIEVABLE! OBAMA’S ATTORNEY GENERAL SAYS MO...   \n",
       "3           3  Bobby Jindal, raised Hindu, uses story of Chri...   \n",
       "4           4  SATAN 2: Russia unvelis an image of its terrif...   \n",
       "\n",
       "                                                text  label  \n",
       "0  No comment is expected from Barack Obama Membe...      1  \n",
       "1     Did they post their votes for Hillary already?      1  \n",
       "2   Now, most of the demonstrators gathered last ...      1  \n",
       "3  A dozen politically active pastors came here f...      0  \n",
       "4  The RS-28 Sarmat missile, dubbed Satan 2, will...      1  "
      ]
     },
     "execution_count": 5,
     "metadata": {},
     "output_type": "execute_result"
    }
   ],
   "source": [
    "df.head(5)"
   ]
  },
  {
   "cell_type": "code",
   "execution_count": 6,
   "metadata": {},
   "outputs": [
    {
     "data": {
      "text/html": [
       "<div>\n",
       "<style scoped>\n",
       "    .dataframe tbody tr th:only-of-type {\n",
       "        vertical-align: middle;\n",
       "    }\n",
       "\n",
       "    .dataframe tbody tr th {\n",
       "        vertical-align: top;\n",
       "    }\n",
       "\n",
       "    .dataframe thead th {\n",
       "        text-align: right;\n",
       "    }\n",
       "</style>\n",
       "<table border=\"1\" class=\"dataframe\">\n",
       "  <thead>\n",
       "    <tr style=\"text-align: right;\">\n",
       "      <th></th>\n",
       "      <th>text</th>\n",
       "      <th>label</th>\n",
       "    </tr>\n",
       "  </thead>\n",
       "  <tbody>\n",
       "    <tr>\n",
       "      <th>0</th>\n",
       "      <td>No comment is expected from Barack Obama Membe...</td>\n",
       "      <td>1</td>\n",
       "    </tr>\n",
       "    <tr>\n",
       "      <th>1</th>\n",
       "      <td>Did they post their votes for Hillary already?</td>\n",
       "      <td>1</td>\n",
       "    </tr>\n",
       "    <tr>\n",
       "      <th>2</th>\n",
       "      <td>Now, most of the demonstrators gathered last ...</td>\n",
       "      <td>1</td>\n",
       "    </tr>\n",
       "    <tr>\n",
       "      <th>3</th>\n",
       "      <td>A dozen politically active pastors came here f...</td>\n",
       "      <td>0</td>\n",
       "    </tr>\n",
       "    <tr>\n",
       "      <th>4</th>\n",
       "      <td>The RS-28 Sarmat missile, dubbed Satan 2, will...</td>\n",
       "      <td>1</td>\n",
       "    </tr>\n",
       "  </tbody>\n",
       "</table>\n",
       "</div>"
      ],
      "text/plain": [
       "                                                text  label\n",
       "0  No comment is expected from Barack Obama Membe...      1\n",
       "1     Did they post their votes for Hillary already?      1\n",
       "2   Now, most of the demonstrators gathered last ...      1\n",
       "3  A dozen politically active pastors came here f...      0\n",
       "4  The RS-28 Sarmat missile, dubbed Satan 2, will...      1"
      ]
     },
     "execution_count": 6,
     "metadata": {},
     "output_type": "execute_result"
    }
   ],
   "source": [
    "df = df.drop(['title','Unnamed: 0'], axis=1)\n",
    "df.head()"
   ]
  },
  {
   "cell_type": "markdown",
   "metadata": {},
   "source": [
    "### Import spacy language model"
   ]
  },
  {
   "cell_type": "code",
   "execution_count": 7,
   "metadata": {},
   "outputs": [],
   "source": [
    "import spacy \n",
    "nlp = spacy.load(\"en_core_web_lg\")"
   ]
  },
  {
   "cell_type": "markdown",
   "metadata": {},
   "source": [
    "### Function for text processing"
   ]
  },
  {
   "cell_type": "code",
   "execution_count": 8,
   "metadata": {},
   "outputs": [],
   "source": [
    "def preprocess_text(text):\n",
    "    # Tokenization and lemmatization\n",
    "    doc = nlp(text)\n",
    "    tokens = [token.lemma_ for token in doc]\n",
    "    tokens = [token.lemma_ for token in doc if not token.is_stop and not token.is_punct]\n",
    "    \n",
    "    return tokens"
   ]
  },
  {
   "cell_type": "markdown",
   "metadata": {},
   "source": [
    "### Function for word embedding (Text to vector)"
   ]
  },
  {
   "cell_type": "code",
   "execution_count": 9,
   "metadata": {},
   "outputs": [],
   "source": [
    "def text_to_vectors(tokens):\n",
    "    # Convert tokens to vectors\n",
    "    vectors = []\n",
    "    for token in tokens:\n",
    "        if token in wv:\n",
    "            vectors.append(wv[token])\n",
    "    \n",
    "    # Calculate the average vector\n",
    "    if vectors:\n",
    "        avg_vector = np.mean(vectors, axis=0)\n",
    "    else:\n",
    "        avg_vector = np.zeros(300)  # If no vectors found, return zero vector\n",
    "    \n",
    "    return avg_vector"
   ]
  },
  {
   "cell_type": "code",
   "execution_count": 10,
   "metadata": {},
   "outputs": [
    {
     "name": "stdout",
     "output_type": "stream",
     "text": [
      "[-1.83893621e-01  1.15242340e-01  9.02258849e-04  1.28502890e-01\n",
      "  3.31447436e-03  2.15016250e-02 -1.13257363e-01 -1.91650391e-02\n",
      " -2.30155606e-02  4.63336427e-03 -5.61366715e-02 -5.05530313e-02\n",
      " -1.95312500e-01  1.57895293e-02 -1.30986750e-01  1.21651031e-01\n",
      "  1.21927015e-01  1.55517578e-01 -1.90177578e-02  4.88068946e-02\n",
      " -2.50774890e-01 -5.92671260e-02  9.22639295e-02  6.77266344e-02\n",
      " -1.09454609e-01  3.56145948e-02 -1.87606141e-01  3.56976055e-02\n",
      "  2.49713403e-03 -9.23170000e-02 -4.45967950e-02  3.09590884e-02\n",
      " -8.00900683e-02 -5.67839257e-02 -9.31449533e-02  5.38930483e-02\n",
      " -2.14959189e-01  5.37003241e-02 -4.56035435e-02  7.66521916e-02\n",
      " -4.09545898e-02 -1.19575830e-02  5.58498204e-02  5.75959571e-02\n",
      "  4.31839488e-02 -5.74632734e-02 -8.52369219e-02 -1.62597656e-01\n",
      " -1.20854914e-01  7.11033046e-02 -1.57984197e-01  2.29003906e-01\n",
      " -5.80152422e-02  1.89867109e-01  1.08581543e-01  1.90700367e-01\n",
      " -1.89867109e-01 -1.64644659e-01  2.28271484e-02 -1.82744563e-01\n",
      " -9.34481397e-02 -1.20886758e-01 -2.04910949e-01 -4.26638238e-02\n",
      " -7.26742968e-02 -2.10703969e-01 -1.27466619e-01  1.19496219e-01\n",
      " -9.51564610e-02  6.70112967e-02  3.00027598e-02 -2.96080224e-02\n",
      "  8.27636719e-02  4.67230752e-02  5.87596046e-03 -2.97619365e-02\n",
      "  1.37175187e-01  4.05034609e-02  1.35338822e-04 -1.02698281e-01\n",
      " -1.14045516e-01 -2.80549414e-02 -3.66244093e-02 -8.82621389e-03\n",
      "  1.44552484e-01  7.40382969e-02  1.47068193e-02  1.61345109e-01\n",
      "  6.15274198e-02  2.52526328e-02  1.33773144e-02 -3.71093750e-02\n",
      " -5.82371578e-02 -1.47959828e-01  6.30678907e-02  1.06198519e-01\n",
      " -5.87211289e-02  1.44109309e-01  2.81143844e-01 -1.79708730e-02\n",
      " -8.44779611e-02 -5.20736016e-02 -1.05962336e-01  2.06670351e-02\n",
      " -5.29294237e-02  1.47901446e-01 -8.97853673e-02  3.15021016e-02\n",
      "  4.68643866e-02  2.55485196e-02 -1.02754012e-01 -1.97500482e-01\n",
      " -3.54577787e-02 -5.08117676e-03  2.64043398e-02  1.76587969e-01\n",
      "  4.52721640e-02 -6.78963065e-02 -1.88094433e-02  1.15913721e-02\n",
      "  8.82913321e-02  6.65283203e-02 -3.05281933e-02  6.59285858e-02\n",
      "  1.54180110e-01 -1.82956859e-01 -1.17271088e-01 -4.67715040e-02\n",
      "  1.58585254e-02  1.32003784e-01 -6.15022071e-02 -6.36888575e-03\n",
      " -9.43178907e-02 -5.79037890e-02 -1.36202276e-01  1.18158095e-01\n",
      " -2.62185801e-02  1.22707197e-02  2.48789907e-01  1.21953547e-01\n",
      "  2.02206820e-01 -6.30838126e-02 -7.27379834e-03 -5.60674258e-02\n",
      " -2.92703379e-02 -1.28948703e-01 -3.10403574e-02  1.82988703e-01\n",
      " -4.32128906e-02  2.16727871e-02  8.27238634e-02 -2.86090344e-01\n",
      " -4.24480438e-02 -3.92111056e-02 -1.05505899e-01 -1.35240644e-01\n",
      "  1.08849570e-01  1.38847023e-01 -5.01636006e-02 -2.28616465e-02\n",
      " -2.33313516e-02  4.56436835e-02 -8.85540526e-03  4.39453125e-03\n",
      " -3.69979180e-02 -3.63743007e-02  1.38979703e-01 -3.17037813e-02\n",
      " -9.33519453e-02  8.57411250e-02 -1.06331207e-01 -1.01976477e-01\n",
      " -7.43952245e-02 -3.55635919e-02 -7.12386426e-03  2.22061828e-01\n",
      "  2.47866422e-01 -2.40223765e-01 -2.17656679e-02 -8.26150626e-02\n",
      "  6.13535987e-03 -1.07672317e-02  1.18792988e-02 -7.40064532e-02\n",
      " -1.40540078e-02  1.52342422e-02 -1.06365703e-01  1.04686573e-01\n",
      " -5.98144531e-02  4.84712012e-02  1.77721113e-01 -4.98949140e-02\n",
      " -2.78702438e-01 -3.38692032e-02  1.09024711e-01  4.61770780e-02\n",
      " -4.98803183e-02 -4.34729531e-02  7.62322471e-02 -6.70856014e-02\n",
      " -1.13424547e-01  2.54755432e-04 -2.04048485e-01 -1.08759344e-01\n",
      "  1.18758492e-01 -1.16670027e-01 -9.77624021e-03  1.11792520e-01\n",
      " -5.94814122e-02  1.71683937e-01  1.67724609e-01  8.96951407e-02\n",
      " -1.65598333e-01  7.96110719e-04 -6.53606877e-02  1.03887141e-01\n",
      "  1.75275058e-01 -2.91008335e-02 -2.08112627e-01  1.60336699e-02\n",
      " -1.26831055e-01  1.05081312e-01  1.02326768e-02 -3.14457119e-02\n",
      " -3.30943242e-02 -1.17386527e-01  5.70466407e-02 -1.27059277e-02\n",
      "  5.53563163e-02 -1.98056430e-01 -3.35109532e-02 -8.12298283e-02\n",
      " -6.49877638e-02  3.09952442e-02 -1.22999111e-02 -7.93954590e-04\n",
      "  4.85528037e-02  1.20616086e-01  4.12916094e-02  1.06987335e-01\n",
      "  8.62904415e-02  5.11395000e-02  2.67885953e-01 -6.48418888e-02\n",
      "  1.13260020e-02  1.97541602e-02 -1.24071203e-01  1.51648477e-01\n",
      "  7.91440234e-02 -9.16230604e-02 -6.59179688e-03 -1.25546660e-02\n",
      "  6.77994415e-02  1.26856267e-01 -4.42876406e-02 -1.55167297e-01\n",
      " -5.34455664e-02  6.22133985e-02  1.37992529e-02 -7.77269453e-02\n",
      "  9.51849893e-02  9.91555955e-03  9.71679688e-02 -1.97329316e-02\n",
      " -6.92775548e-02 -9.22692381e-03 -1.46749746e-02 -1.44600244e-02\n",
      " -1.14679756e-02 -2.67519746e-02 -4.93130907e-02 -2.71951426e-02\n",
      " -2.87289824e-02 -4.81381640e-03  7.49352500e-02 -8.20737109e-02\n",
      " -1.00705355e-01 -1.25700578e-01 -7.64823556e-02  3.62681523e-02\n",
      " -1.33982778e-01  9.88344923e-02 -1.53702442e-02  6.97193993e-03\n",
      " -3.36622144e-03  3.51350196e-02 -3.89457382e-02 -2.31004804e-02\n",
      " -6.63239881e-02 -2.64268965e-02  6.44637421e-02 -2.66272500e-02\n",
      " -7.96827227e-02  6.89962655e-02 -3.26883085e-02 -1.37660146e-01\n",
      " -9.15633515e-02 -1.61132812e-02 -1.29235312e-01  2.04849914e-01]\n"
     ]
    }
   ],
   "source": [
    "text = \"Your fake news text goes here\"\n",
    "vector = text_to_vectors(text)\n",
    "print(vector)"
   ]
  },
  {
   "cell_type": "code",
   "execution_count": 11,
   "metadata": {},
   "outputs": [],
   "source": [
    "df.dropna(inplace=True)"
   ]
  },
  {
   "cell_type": "code",
   "execution_count": 12,
   "metadata": {},
   "outputs": [
    {
     "data": {
      "text/plain": [
       "text     0\n",
       "label    0\n",
       "dtype: int64"
      ]
     },
     "execution_count": 12,
     "metadata": {},
     "output_type": "execute_result"
    }
   ],
   "source": [
    "df.isnull().sum()"
   ]
  },
  {
   "cell_type": "code",
   "execution_count": 13,
   "metadata": {},
   "outputs": [],
   "source": [
    "df['tokens'] = df['text'].apply(preprocess_text)"
   ]
  },
  {
   "cell_type": "code",
   "execution_count": 14,
   "metadata": {},
   "outputs": [],
   "source": [
    "df['vector'] = df['tokens'].apply(text_to_vectors)"
   ]
  },
  {
   "cell_type": "code",
   "execution_count": 15,
   "metadata": {},
   "outputs": [
    {
     "data": {
      "text/html": [
       "<div>\n",
       "<style scoped>\n",
       "    .dataframe tbody tr th:only-of-type {\n",
       "        vertical-align: middle;\n",
       "    }\n",
       "\n",
       "    .dataframe tbody tr th {\n",
       "        vertical-align: top;\n",
       "    }\n",
       "\n",
       "    .dataframe thead th {\n",
       "        text-align: right;\n",
       "    }\n",
       "</style>\n",
       "<table border=\"1\" class=\"dataframe\">\n",
       "  <thead>\n",
       "    <tr style=\"text-align: right;\">\n",
       "      <th></th>\n",
       "      <th>text</th>\n",
       "      <th>label</th>\n",
       "      <th>tokens</th>\n",
       "      <th>vector</th>\n",
       "    </tr>\n",
       "  </thead>\n",
       "  <tbody>\n",
       "    <tr>\n",
       "      <th>0</th>\n",
       "      <td>No comment is expected from Barack Obama Membe...</td>\n",
       "      <td>1</td>\n",
       "      <td>[comment, expect, Barack, Obama, Members, FYF9...</td>\n",
       "      <td>[0.02989684, 0.0266612, 0.018265275, 0.0700507...</td>\n",
       "    </tr>\n",
       "    <tr>\n",
       "      <th>1</th>\n",
       "      <td>Did they post their votes for Hillary already?</td>\n",
       "      <td>1</td>\n",
       "      <td>[post, vote, Hillary]</td>\n",
       "      <td>[0.045410156, -0.085250854, -0.049153645, -0.0...</td>\n",
       "    </tr>\n",
       "    <tr>\n",
       "      <th>2</th>\n",
       "      <td>Now, most of the demonstrators gathered last ...</td>\n",
       "      <td>1</td>\n",
       "      <td>[ , demonstrator, gather, night, exercise, con...</td>\n",
       "      <td>[0.040579915, 0.06442566, 0.008007812, 0.10589...</td>\n",
       "    </tr>\n",
       "    <tr>\n",
       "      <th>3</th>\n",
       "      <td>A dozen politically active pastors came here f...</td>\n",
       "      <td>0</td>\n",
       "      <td>[dozen, politically, active, pastor, come, pri...</td>\n",
       "      <td>[0.07117676, 0.0048914626, -0.0015993273, 0.08...</td>\n",
       "    </tr>\n",
       "    <tr>\n",
       "      <th>4</th>\n",
       "      <td>The RS-28 Sarmat missile, dubbed Satan 2, will...</td>\n",
       "      <td>1</td>\n",
       "      <td>[rs-28, Sarmat, missile, dub, Satan, 2, replac...</td>\n",
       "      <td>[-0.012512591, 0.05977534, 0.06800325, 0.07641...</td>\n",
       "    </tr>\n",
       "  </tbody>\n",
       "</table>\n",
       "</div>"
      ],
      "text/plain": [
       "                                                text  label  \\\n",
       "0  No comment is expected from Barack Obama Membe...      1   \n",
       "1     Did they post their votes for Hillary already?      1   \n",
       "2   Now, most of the demonstrators gathered last ...      1   \n",
       "3  A dozen politically active pastors came here f...      0   \n",
       "4  The RS-28 Sarmat missile, dubbed Satan 2, will...      1   \n",
       "\n",
       "                                              tokens  \\\n",
       "0  [comment, expect, Barack, Obama, Members, FYF9...   \n",
       "1                              [post, vote, Hillary]   \n",
       "2  [ , demonstrator, gather, night, exercise, con...   \n",
       "3  [dozen, politically, active, pastor, come, pri...   \n",
       "4  [rs-28, Sarmat, missile, dub, Satan, 2, replac...   \n",
       "\n",
       "                                              vector  \n",
       "0  [0.02989684, 0.0266612, 0.018265275, 0.0700507...  \n",
       "1  [0.045410156, -0.085250854, -0.049153645, -0.0...  \n",
       "2  [0.040579915, 0.06442566, 0.008007812, 0.10589...  \n",
       "3  [0.07117676, 0.0048914626, -0.0015993273, 0.08...  \n",
       "4  [-0.012512591, 0.05977534, 0.06800325, 0.07641...  "
      ]
     },
     "execution_count": 15,
     "metadata": {},
     "output_type": "execute_result"
    }
   ],
   "source": [
    "df.head()"
   ]
  },
  {
   "cell_type": "markdown",
   "metadata": {},
   "source": [
    "If you want to save this new dataset that contain vector column do not save in .csv because it may convert it into a string datatype by adding some \\n , etc i wasted so much time in changing this csv but it didn't worked\n",
    "\n",
    "so to save such vector you can save in .pkl or .h5 because this can store complex data like vectors in then "
   ]
  },
  {
   "cell_type": "code",
   "execution_count": 16,
   "metadata": {},
   "outputs": [],
   "source": [
    "# To save in pickle format\n",
    "# df.to_pickle(\"./Data/news_Fake_Vectorized.pkl\")\n",
    "\n",
    "# to load a pickle dataset\n",
    "# df = pd.read_pickle(\"./Data/news_Fake_Vectorized.pkl\")"
   ]
  }
 ],
 "metadata": {
  "kernelspec": {
   "display_name": "Python 3",
   "language": "python",
   "name": "python3"
  },
  "language_info": {
   "codemirror_mode": {
    "name": "ipython",
    "version": 3
   },
   "file_extension": ".py",
   "mimetype": "text/x-python",
   "name": "python",
   "nbconvert_exporter": "python",
   "pygments_lexer": "ipython3",
   "version": "3.11.0"
  }
 },
 "nbformat": 4,
 "nbformat_minor": 2
}
